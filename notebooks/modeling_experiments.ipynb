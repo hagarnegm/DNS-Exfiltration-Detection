{
 "cells": [
  {
   "cell_type": "code",
   "execution_count": 22,
   "id": "6e5ae51c",
   "metadata": {},
   "outputs": [],
   "source": [
    "import numpy as np\n",
    "import pandas as pd\n",
    "import seaborn as sns\n",
    "import matplotlib.pyplot as plt"
   ]
  },
  {
   "cell_type": "code",
   "execution_count": 23,
   "id": "41f1c685",
   "metadata": {},
   "outputs": [
    {
     "data": {
      "text/html": [
       "<div>\n",
       "<style scoped>\n",
       "    .dataframe tbody tr th:only-of-type {\n",
       "        vertical-align: middle;\n",
       "    }\n",
       "\n",
       "    .dataframe tbody tr th {\n",
       "        vertical-align: top;\n",
       "    }\n",
       "\n",
       "    .dataframe thead th {\n",
       "        text-align: right;\n",
       "    }\n",
       "</style>\n",
       "<table border=\"1\" class=\"dataframe\">\n",
       "  <thead>\n",
       "    <tr style=\"text-align: right;\">\n",
       "      <th></th>\n",
       "      <th>timestamp</th>\n",
       "      <th>FQDN_count</th>\n",
       "      <th>subdomain_length</th>\n",
       "      <th>upper</th>\n",
       "      <th>lower</th>\n",
       "      <th>numeric</th>\n",
       "      <th>entropy</th>\n",
       "      <th>special</th>\n",
       "      <th>labels</th>\n",
       "      <th>labels_max</th>\n",
       "      <th>labels_average</th>\n",
       "      <th>longest_word</th>\n",
       "      <th>sld</th>\n",
       "      <th>len</th>\n",
       "      <th>subdomain</th>\n",
       "      <th>Label</th>\n",
       "    </tr>\n",
       "  </thead>\n",
       "  <tbody>\n",
       "    <tr>\n",
       "      <th>0</th>\n",
       "      <td>58:50.7</td>\n",
       "      <td>24</td>\n",
       "      <td>7</td>\n",
       "      <td>0</td>\n",
       "      <td>10</td>\n",
       "      <td>8</td>\n",
       "      <td>2.054029</td>\n",
       "      <td>6</td>\n",
       "      <td>6</td>\n",
       "      <td>7</td>\n",
       "      <td>3.166667</td>\n",
       "      <td>4</td>\n",
       "      <td>224</td>\n",
       "      <td>11</td>\n",
       "      <td>1</td>\n",
       "      <td>1</td>\n",
       "    </tr>\n",
       "    <tr>\n",
       "      <th>1</th>\n",
       "      <td>58:50.3</td>\n",
       "      <td>24</td>\n",
       "      <td>7</td>\n",
       "      <td>0</td>\n",
       "      <td>10</td>\n",
       "      <td>8</td>\n",
       "      <td>2.054029</td>\n",
       "      <td>6</td>\n",
       "      <td>6</td>\n",
       "      <td>7</td>\n",
       "      <td>3.166667</td>\n",
       "      <td>4</td>\n",
       "      <td>224</td>\n",
       "      <td>11</td>\n",
       "      <td>1</td>\n",
       "      <td>1</td>\n",
       "    </tr>\n",
       "    <tr>\n",
       "      <th>2</th>\n",
       "      <td>58:49.9</td>\n",
       "      <td>26</td>\n",
       "      <td>9</td>\n",
       "      <td>0</td>\n",
       "      <td>10</td>\n",
       "      <td>10</td>\n",
       "      <td>2.742338</td>\n",
       "      <td>6</td>\n",
       "      <td>6</td>\n",
       "      <td>7</td>\n",
       "      <td>3.500000</td>\n",
       "      <td>2</td>\n",
       "      <td>192</td>\n",
       "      <td>13</td>\n",
       "      <td>1</td>\n",
       "      <td>1</td>\n",
       "    </tr>\n",
       "    <tr>\n",
       "      <th>3</th>\n",
       "      <td>58:49.5</td>\n",
       "      <td>26</td>\n",
       "      <td>9</td>\n",
       "      <td>0</td>\n",
       "      <td>10</td>\n",
       "      <td>10</td>\n",
       "      <td>2.742338</td>\n",
       "      <td>6</td>\n",
       "      <td>6</td>\n",
       "      <td>7</td>\n",
       "      <td>3.500000</td>\n",
       "      <td>2</td>\n",
       "      <td>192</td>\n",
       "      <td>13</td>\n",
       "      <td>1</td>\n",
       "      <td>1</td>\n",
       "    </tr>\n",
       "    <tr>\n",
       "      <th>4</th>\n",
       "      <td>58:49.1</td>\n",
       "      <td>27</td>\n",
       "      <td>10</td>\n",
       "      <td>0</td>\n",
       "      <td>10</td>\n",
       "      <td>11</td>\n",
       "      <td>2.767195</td>\n",
       "      <td>6</td>\n",
       "      <td>6</td>\n",
       "      <td>7</td>\n",
       "      <td>3.666667</td>\n",
       "      <td>2</td>\n",
       "      <td>192</td>\n",
       "      <td>14</td>\n",
       "      <td>1</td>\n",
       "      <td>1</td>\n",
       "    </tr>\n",
       "  </tbody>\n",
       "</table>\n",
       "</div>"
      ],
      "text/plain": [
       "  timestamp  FQDN_count  subdomain_length  upper  lower  numeric   entropy  \\\n",
       "0   58:50.7          24                 7      0     10        8  2.054029   \n",
       "1   58:50.3          24                 7      0     10        8  2.054029   \n",
       "2   58:49.9          26                 9      0     10       10  2.742338   \n",
       "3   58:49.5          26                 9      0     10       10  2.742338   \n",
       "4   58:49.1          27                10      0     10       11  2.767195   \n",
       "\n",
       "   special  labels  labels_max  labels_average longest_word  sld  len  \\\n",
       "0        6       6           7        3.166667            4  224   11   \n",
       "1        6       6           7        3.166667            4  224   11   \n",
       "2        6       6           7        3.500000            2  192   13   \n",
       "3        6       6           7        3.500000            2  192   13   \n",
       "4        6       6           7        3.666667            2  192   14   \n",
       "\n",
       "   subdomain  Label  \n",
       "0          1      1  \n",
       "1          1      1  \n",
       "2          1      1  \n",
       "3          1      1  \n",
       "4          1      1  "
      ]
     },
     "execution_count": 23,
     "metadata": {},
     "output_type": "execute_result"
    }
   ],
   "source": [
    "dns_exf_feats = pd.read_csv(\"training_dataset.csv\")\n",
    "dns_exf_feats.head()"
   ]
  },
  {
   "cell_type": "code",
   "execution_count": 26,
   "id": "d15e5784",
   "metadata": {},
   "outputs": [
    {
     "name": "stdout",
     "output_type": "stream",
     "text": [
      "<class 'pandas.core.frame.DataFrame'>\n",
      "Int64Index: 536124 entries, 0 to 536137\n",
      "Data columns (total 15 columns):\n",
      " #   Column            Non-Null Count   Dtype  \n",
      "---  ------            --------------   -----  \n",
      " 0   FQDN_count        536124 non-null  int64  \n",
      " 1   subdomain_length  536124 non-null  int64  \n",
      " 2   upper             536124 non-null  int64  \n",
      " 3   lower             536124 non-null  int64  \n",
      " 4   numeric           536124 non-null  int64  \n",
      " 5   entropy           536124 non-null  float64\n",
      " 6   special           536124 non-null  int64  \n",
      " 7   labels            536124 non-null  int64  \n",
      " 8   labels_max        536124 non-null  int64  \n",
      " 9   labels_average    536124 non-null  float64\n",
      " 10  longest_word      536124 non-null  int64  \n",
      " 11  sld               536124 non-null  int32  \n",
      " 12  len               536124 non-null  int64  \n",
      " 13  subdomain         536124 non-null  int64  \n",
      " 14  Label             536124 non-null  int64  \n",
      "dtypes: float64(2), int32(1), int64(12)\n",
      "memory usage: 63.4 MB\n"
     ]
    }
   ],
   "source": [
    "dns_exf_feats.info()"
   ]
  },
  {
   "cell_type": "code",
   "execution_count": 25,
   "id": "975f01a8",
   "metadata": {},
   "outputs": [
    {
     "data": {
      "text/html": [
       "<div>\n",
       "<style scoped>\n",
       "    .dataframe tbody tr th:only-of-type {\n",
       "        vertical-align: middle;\n",
       "    }\n",
       "\n",
       "    .dataframe tbody tr th {\n",
       "        vertical-align: top;\n",
       "    }\n",
       "\n",
       "    .dataframe thead th {\n",
       "        text-align: right;\n",
       "    }\n",
       "</style>\n",
       "<table border=\"1\" class=\"dataframe\">\n",
       "  <thead>\n",
       "    <tr style=\"text-align: right;\">\n",
       "      <th></th>\n",
       "      <th>FQDN_count</th>\n",
       "      <th>subdomain_length</th>\n",
       "      <th>upper</th>\n",
       "      <th>lower</th>\n",
       "      <th>numeric</th>\n",
       "      <th>entropy</th>\n",
       "      <th>special</th>\n",
       "      <th>labels</th>\n",
       "      <th>labels_max</th>\n",
       "      <th>labels_average</th>\n",
       "      <th>longest_word</th>\n",
       "      <th>sld</th>\n",
       "      <th>len</th>\n",
       "      <th>subdomain</th>\n",
       "      <th>Label</th>\n",
       "    </tr>\n",
       "  </thead>\n",
       "  <tbody>\n",
       "    <tr>\n",
       "      <th>0</th>\n",
       "      <td>24</td>\n",
       "      <td>7</td>\n",
       "      <td>0</td>\n",
       "      <td>10</td>\n",
       "      <td>8</td>\n",
       "      <td>2.054029</td>\n",
       "      <td>6</td>\n",
       "      <td>6</td>\n",
       "      <td>7</td>\n",
       "      <td>3.166667</td>\n",
       "      <td>1</td>\n",
       "      <td>178</td>\n",
       "      <td>11</td>\n",
       "      <td>1</td>\n",
       "      <td>1</td>\n",
       "    </tr>\n",
       "    <tr>\n",
       "      <th>1</th>\n",
       "      <td>24</td>\n",
       "      <td>7</td>\n",
       "      <td>0</td>\n",
       "      <td>10</td>\n",
       "      <td>8</td>\n",
       "      <td>2.054029</td>\n",
       "      <td>6</td>\n",
       "      <td>6</td>\n",
       "      <td>7</td>\n",
       "      <td>3.166667</td>\n",
       "      <td>1</td>\n",
       "      <td>178</td>\n",
       "      <td>11</td>\n",
       "      <td>1</td>\n",
       "      <td>1</td>\n",
       "    </tr>\n",
       "    <tr>\n",
       "      <th>2</th>\n",
       "      <td>26</td>\n",
       "      <td>9</td>\n",
       "      <td>0</td>\n",
       "      <td>10</td>\n",
       "      <td>10</td>\n",
       "      <td>2.742338</td>\n",
       "      <td>6</td>\n",
       "      <td>6</td>\n",
       "      <td>7</td>\n",
       "      <td>3.500000</td>\n",
       "      <td>1</td>\n",
       "      <td>110</td>\n",
       "      <td>13</td>\n",
       "      <td>1</td>\n",
       "      <td>1</td>\n",
       "    </tr>\n",
       "    <tr>\n",
       "      <th>3</th>\n",
       "      <td>26</td>\n",
       "      <td>9</td>\n",
       "      <td>0</td>\n",
       "      <td>10</td>\n",
       "      <td>10</td>\n",
       "      <td>2.742338</td>\n",
       "      <td>6</td>\n",
       "      <td>6</td>\n",
       "      <td>7</td>\n",
       "      <td>3.500000</td>\n",
       "      <td>1</td>\n",
       "      <td>110</td>\n",
       "      <td>13</td>\n",
       "      <td>1</td>\n",
       "      <td>1</td>\n",
       "    </tr>\n",
       "    <tr>\n",
       "      <th>4</th>\n",
       "      <td>27</td>\n",
       "      <td>10</td>\n",
       "      <td>0</td>\n",
       "      <td>10</td>\n",
       "      <td>11</td>\n",
       "      <td>2.767195</td>\n",
       "      <td>6</td>\n",
       "      <td>6</td>\n",
       "      <td>7</td>\n",
       "      <td>3.666667</td>\n",
       "      <td>1</td>\n",
       "      <td>110</td>\n",
       "      <td>14</td>\n",
       "      <td>1</td>\n",
       "      <td>1</td>\n",
       "    </tr>\n",
       "  </tbody>\n",
       "</table>\n",
       "</div>"
      ],
      "text/plain": [
       "   FQDN_count  subdomain_length  upper  lower  numeric   entropy  special  \\\n",
       "0          24                 7      0     10        8  2.054029        6   \n",
       "1          24                 7      0     10        8  2.054029        6   \n",
       "2          26                 9      0     10       10  2.742338        6   \n",
       "3          26                 9      0     10       10  2.742338        6   \n",
       "4          27                10      0     10       11  2.767195        6   \n",
       "\n",
       "   labels  labels_max  labels_average  longest_word  sld  len  subdomain  \\\n",
       "0       6           7        3.166667             1  178   11          1   \n",
       "1       6           7        3.166667             1  178   11          1   \n",
       "2       6           7        3.500000             1  110   13          1   \n",
       "3       6           7        3.500000             1  110   13          1   \n",
       "4       6           7        3.666667             1  110   14          1   \n",
       "\n",
       "   Label  \n",
       "0      1  \n",
       "1      1  \n",
       "2      1  \n",
       "3      1  \n",
       "4      1  "
      ]
     },
     "execution_count": 25,
     "metadata": {},
     "output_type": "execute_result"
    }
   ],
   "source": [
    "from sklearn.preprocessing import LabelEncoder\n",
    "\n",
    "dns_exf_feats.drop(columns=['timestamp'], inplace=True)\n",
    "dns_exf_feats.dropna(inplace=True)\n",
    "\n",
    "dns_exf_feats.longest_word = dns_exf_feats.longest_word.apply(lambda x: len(x))\n",
    "\n",
    "le = LabelEncoder()\n",
    "le.fit(dns_exf_feats.sld)\n",
    "dns_exf_feats.sld = le.transform(dns_exf_feats.sld)\n",
    "\n",
    "dns_exf_feats.head()"
   ]
  },
  {
   "cell_type": "code",
   "execution_count": 27,
   "id": "d4b798e6",
   "metadata": {},
   "outputs": [],
   "source": [
    "from sklearn.model_selection import train_test_split\n",
    "\n",
    "X, y = dns_exf_feats.iloc[:, 0:14], dns_exf_feats.iloc[:, 14]\n",
    "X_train, X_test, y_train, y_test = train_test_split(X, y, test_size=0.3, random_state=0)"
   ]
  },
  {
   "cell_type": "code",
   "execution_count": 28,
   "id": "7d3062fa",
   "metadata": {},
   "outputs": [],
   "source": [
    "labels = dns_exf_feats.Label.value_counts().index\n",
    "frequencies = dns_exf_feats.Label.value_counts()"
   ]
  },
  {
   "cell_type": "code",
   "execution_count": 29,
   "id": "a11cecac",
   "metadata": {},
   "outputs": [
    {
     "data": {
      "text/plain": [
       "<AxesSubplot:ylabel='Label'>"
      ]
     },
     "execution_count": 29,
     "metadata": {},
     "output_type": "execute_result"
    },
    {
     "data": {
      "image/png": "[encoded data removed]",
      "text/plain": [
       "<Figure size 432x288 with 1 Axes>"
      ]
     },
     "metadata": {
      "needs_background": "light"
     },
     "output_type": "display_data"
    }
   ],
   "source": [
    "sns.barplot(x=labels, y=frequencies)"
   ]
  },
  {
   "cell_type": "code",
   "execution_count": 30,
   "id": "c2574515",
   "metadata": {},
   "outputs": [],
   "source": [
    "from sklearn.svm import SVC\n",
    "from sklearn.naive_bayes import GaussianNB\n",
    "from sklearn.linear_model import LogisticRegression\n",
    "from sklearn.ensemble import RandomForestClassifier\n",
    "\n",
    "from sklearn.metrics import accuracy_score\n",
    "from sklearn.metrics import classification_report, confusion_matrix, ConfusionMatrixDisplay"
   ]
  },
  {
   "cell_type": "code",
   "execution_count": 31,
   "id": "069dac8c",
   "metadata": {},
   "outputs": [
    {
     "data": {
      "text/plain": [
       "[<matplotlib.lines.Line2D at 0x299a8fa5f10>]"
      ]
     },
     "execution_count": 31,
     "metadata": {},
     "output_type": "execute_result"
    },
    {
     "data": {
      "image/png": "[encoded data removed]",
      "text/plain": [
       "<Figure size 432x288 with 1 Axes>"
      ]
     },
     "metadata": {
      "needs_background": "light"
     },
     "output_type": "display_data"
    }
   ],
   "source": [
    "n_estimators = [50, 100, 300, 500]\n",
    "rf_accuracies = []\n",
    "\n",
    "for n in n_estimators:\n",
    "    rf = RandomForestClassifier(n_estimators=n, class_weight='balanced', random_state=0)\n",
    "    rf.fit(X_train, y_train)\n",
    "    y_pred = rf.predict(X_test)\n",
    "    test_accuracy = accuracy_score(y_test, y_pred)\n",
    "    rf_accuracies.append(test_accuracy)\n",
    "    \n",
    "plt.plot(n_estimators, rf_accuracies)"
   ]
  },
  {
   "cell_type": "code",
   "execution_count": 32,
   "id": "b92b925a",
   "metadata": {},
   "outputs": [
    {
     "data": {
      "text/plain": [
       "[<matplotlib.lines.Line2D at 0x299a941bdf0>]"
      ]
     },
     "execution_count": 32,
     "metadata": {},
     "output_type": "execute_result"
    },
    {
     "data": {
      "image/png": "[encoded data removed]",
      "text/plain": [
       "<Figure size 432x288 with 1 Axes>"
      ]
     },
     "metadata": {
      "needs_background": "light"
     },
     "output_type": "display_data"
    }
   ],
   "source": [
    "n_estimators = [50, 100, 300, 500]\n",
    "rf_accuracies = []\n",
    "\n",
    "for n in n_estimators:\n",
    "    rf = RandomForestClassifier(n_estimators=n, criterion=\"entropy\", class_weight='balanced', random_state=0)\n",
    "    rf.fit(X_train, y_train)\n",
    "    y_pred = rf.predict(X_test)\n",
    "    test_accuracy = accuracy_score(y_test, y_pred)\n",
    "    rf_accuracies.append(test_accuracy)\n",
    "    \n",
    "plt.plot(n_estimators, rf_accuracies)"
   ]
  },
  {
   "cell_type": "code",
   "execution_count": 33,
   "id": "cc57deae",
   "metadata": {},
   "outputs": [
    {
     "name": "stdout",
     "output_type": "stream",
     "text": [
      "              precision    recall  f1-score   support\n",
      "\n",
      "           0       1.00      0.60      0.75     72448\n",
      "           1       0.75      1.00      0.86     88390\n",
      "\n",
      "    accuracy                           0.82    160838\n",
      "   macro avg       0.88      0.80      0.81    160838\n",
      "weighted avg       0.86      0.82      0.81    160838\n",
      "\n"
     ]
    },
    {
     "data": {
      "image/png": "[encoded data removed]",
      "text/plain": [
       "<Figure size 432x288 with 2 Axes>"
      ]
     },
     "metadata": {
      "needs_background": "light"
     },
     "output_type": "display_data"
    }
   ],
   "source": [
    "rf = RandomForestClassifier(n_estimators=50, class_weight='balanced', random_state=0)\n",
    "rf.fit(X_train, y_train)\n",
    "y_pred = rf.predict(X_test)\n",
    "\n",
    "print(classification_report(y_test, y_pred))\n",
    "\n",
    "cm = confusion_matrix(y_test, y_pred, labels=rf.classes_)\n",
    "disp = ConfusionMatrixDisplay(confusion_matrix=cm)\n",
    "disp.plot()\n",
    "plt.tight_layout()\n",
    "plt.show()"
   ]
  },
  {
   "cell_type": "code",
   "execution_count": 35,
   "id": "69516532",
   "metadata": {},
   "outputs": [],
   "source": [
    "from sklearn.preprocessing import StandardScaler\n",
    "\n",
    "scaler = StandardScaler()\n",
    "scaler.fit(X_train)\n",
    "X_train_scaled = scaler.transform(X_train)\n",
    "X_test_scaled = scaler.transform(X_test)"
   ]
  },
  {
   "cell_type": "code",
   "execution_count": 36,
   "id": "fc918e42",
   "metadata": {},
   "outputs": [
    {
     "data": {
      "text/plain": [
       "[<matplotlib.lines.Line2D at 0x299a9514160>]"
      ]
     },
     "execution_count": 36,
     "metadata": {},
     "output_type": "execute_result"
    },
    {
     "data": {
      "image/png": "[encoded data removed]",
      "text/plain": [
       "<Figure size 432x288 with 1 Axes>"
      ]
     },
     "metadata": {
      "needs_background": "light"
     },
     "output_type": "display_data"
    }
   ],
   "source": [
    "C = [0.0001, 0.001, 0.01, 0.1, 1, 10, 100, 1000]\n",
    "lr_accuracies = []\n",
    "\n",
    "for c in C:\n",
    "    lr = LogisticRegression(C=c, max_iter=500, solver='saga', class_weight='balanced', random_state=0)\n",
    "    lr.fit(X_train_scaled, y_train)\n",
    "    y_pred = lr.predict(X_test_scaled)\n",
    "    test_accuracy = accuracy_score(y_test, y_pred)\n",
    "    lr_accuracies.append(test_accuracy)\n",
    "    \n",
    "plt.plot(np.log(C), lr_accuracies)"
   ]
  },
  {
   "cell_type": "code",
   "execution_count": 37,
   "id": "99c700bc",
   "metadata": {},
   "outputs": [
    {
     "name": "stdout",
     "output_type": "stream",
     "text": [
      "              precision    recall  f1-score   support\n",
      "\n",
      "           0       0.99      0.60      0.75     72448\n",
      "           1       0.75      1.00      0.86     88390\n",
      "\n",
      "    accuracy                           0.82    160838\n",
      "   macro avg       0.87      0.80      0.80    160838\n",
      "weighted avg       0.86      0.82      0.81    160838\n",
      "\n"
     ]
    },
    {
     "data": {
      "image/png": "[encoded data removed]",
      "text/plain": [
       "<Figure size 432x288 with 2 Axes>"
      ]
     },
     "metadata": {
      "needs_background": "light"
     },
     "output_type": "display_data"
    }
   ],
   "source": [
    "c = np.array(C)[np.argmax(lr_accuracies)]\n",
    "lr = LogisticRegression(C=c, max_iter=500, solver='saga', class_weight='balanced', random_state=0)\n",
    "lr.fit(X_train_scaled, y_train)\n",
    "y_pred = lr.predict(X_test_scaled)\n",
    "\n",
    "print(classification_report(y_test, y_pred))\n",
    "\n",
    "cm = confusion_matrix(y_test, y_pred, labels=lr.classes_)\n",
    "disp = ConfusionMatrixDisplay(confusion_matrix=cm)\n",
    "disp.plot()\n",
    "plt.tight_layout()\n",
    "plt.show()"
   ]
  },
  {
   "cell_type": "code",
   "execution_count": 38,
   "id": "e72fa2cd",
   "metadata": {},
   "outputs": [
    {
     "name": "stdout",
     "output_type": "stream",
     "text": [
      "              precision    recall  f1-score   support\n",
      "\n",
      "           0       0.95      0.61      0.74     72448\n",
      "           1       0.75      0.97      0.85     88390\n",
      "\n",
      "    accuracy                           0.81    160838\n",
      "   macro avg       0.85      0.79      0.80    160838\n",
      "weighted avg       0.84      0.81      0.80    160838\n",
      "\n"
     ]
    },
    {
     "data": {
      "image/png": "[encoded data removed]",
      "text/plain": [
       "<Figure size 432x288 with 2 Axes>"
      ]
     },
     "metadata": {
      "needs_background": "light"
     },
     "output_type": "display_data"
    }
   ],
   "source": [
    "gnb = GaussianNB()\n",
    "gnb.fit(X_train_scaled, y_train)\n",
    "y_pred = gnb.predict(X_test_scaled)\n",
    "\n",
    "print(classification_report(y_test, y_pred))\n",
    "\n",
    "cm = confusion_matrix(y_test, y_pred, labels=gnb.classes_)\n",
    "disp = ConfusionMatrixDisplay(confusion_matrix=cm)\n",
    "disp.plot()\n",
    "plt.tight_layout()\n",
    "plt.show()"
   ]
  },
  {
   "cell_type": "code",
   "execution_count": null,
   "id": "cb85ec7f",
   "metadata": {},
   "outputs": [],
   "source": []
  }
 ],
 "metadata": {
  "kernelspec": {
   "display_name": "Python 3 (ipykernel)",
   "language": "python",
   "name": "python3"
  },
  "language_info": {
   "codemirror_mode": {
    "name": "ipython",
    "version": 3
   },
   "file_extension": ".py",
   "mimetype": "text/x-python",
   "name": "python",
   "nbconvert_exporter": "python",
   "pygments_lexer": "ipython3",
   "version": "3.9.7"
  }
 },
 "nbformat": 4,
 "nbformat_minor": 5
}
